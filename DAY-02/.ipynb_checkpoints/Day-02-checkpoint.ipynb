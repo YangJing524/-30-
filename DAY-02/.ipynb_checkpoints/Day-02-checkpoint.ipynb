{
 "cells": [
  {
   "cell_type": "code",
   "execution_count": 30,
   "metadata": {},
   "outputs": [
    {
     "ename": "SyntaxError",
     "evalue": "invalid syntax (<ipython-input-30-490fd5cb739b>, line 6)",
     "output_type": "error",
     "traceback": [
      "\u001b[1;36m  File \u001b[1;32m\"<ipython-input-30-490fd5cb739b>\"\u001b[1;36m, line \u001b[1;32m6\u001b[0m\n\u001b[1;33m    from ./point import geocodeGaode\u001b[0m\n\u001b[1;37m          ^\u001b[0m\n\u001b[1;31mSyntaxError\u001b[0m\u001b[1;31m:\u001b[0m invalid syntax\n"
     ]
    }
   ],
   "source": [
    "import pandas as pd\n",
    "import os\n",
    "import numpy as np\n",
    "import json\n",
    "import folium\n",
    "from .point import geocodeGaode\n",
    "import sys\n",
    "sys.path.append('../')"
   ]
  },
  {
   "cell_type": "code",
   "execution_count": 26,
   "metadata": {},
   "outputs": [
    {
     "data": {
      "text/plain": [
       "{'患者1': {'属性': {'年龄': '44', '性别': '女', '现居地': '现居西安市高新区'},\n",
       "  '轨迹': {'2020-02-10': '西安市高新区',\n",
       "   '2020-02-15': '西安医学高等专科学校附属医院',\n",
       "   '2020-02-18': '陕西省传染病院（西安市第八医院）',\n",
       "   '2020-02-20': '陕西省传染病院（西安市第八医院）[确诊]'}},\n",
       " '患者2': {'属性': {'年龄': '66', '性别': '男', '现居地': '西安市灞桥区'},\n",
       "  '轨迹': {'2020-02-02': '双建酒店[隔离观察]',\n",
       "   '2020-02-09': '唐都医院',\n",
       "   '2020-02-20': '唐都医院[确诊]'}},\n",
       " '患者3': {'属性': {'年龄': '56', '性别': '女', '现居地': '西安市雁塔区'},\n",
       "  '轨迹': {'2020-02-13': '521医院', '2020-02-14': '陕西省传染病院（西安市第八医院）就诊'}},\n",
       " '患者4': {'属性': {'年龄': '54', '性别': '男', '现居地': '西安市雁塔区'},\n",
       "  '轨迹': {'2020-02-03': '西安市胸科医院', '2020-02-17': '西安市胸科医院'}},\n",
       " '患者5': {'属性': {'年龄': '44', '性别': '女', '现居地': '现居西安市高新区'},\n",
       "  '轨迹': {'2020-02-10': '西安市高新区',\n",
       "   '2020-02-15': '西安医学高等专科学校附属医院',\n",
       "   '2020-02-18': '陕西省传染病院（西安市第八医院）',\n",
       "   '2020-02-20': '陕西省传染病院（西安市第八医院）[确诊]'}}}"
      ]
     },
     "execution_count": 26,
     "metadata": {},
     "output_type": "execute_result"
    }
   ],
   "source": [
    "data=json.load(open('patient.json',encoding='utf8'))\n",
    "data"
   ]
  },
  {
   "cell_type": "code",
   "execution_count": 29,
   "metadata": {},
   "outputs": [
    {
     "ename": "NameError",
     "evalue": "name 'city_param' is not defined",
     "output_type": "error",
     "traceback": [
      "\u001b[1;31m---------------------------------------------------------------------------\u001b[0m",
      "\u001b[1;31mNameError\u001b[0m                                 Traceback (most recent call last)",
      "\u001b[1;32m<ipython-input-29-b23cb8766f8e>\u001b[0m in \u001b[0;36m<module>\u001b[1;34m()\u001b[0m\n\u001b[0;32m      8\u001b[0m         \u001b[0mtime_index\u001b[0m\u001b[1;33m.\u001b[0m\u001b[0mappend\u001b[0m\u001b[1;33m(\u001b[0m\u001b[0mi\u001b[0m\u001b[1;33m)\u001b[0m\u001b[1;33m\u001b[0m\u001b[0m\n\u001b[0;32m      9\u001b[0m     \u001b[1;32mfor\u001b[0m \u001b[0mj\u001b[0m \u001b[1;32min\u001b[0m \u001b[0mtemp1\u001b[0m\u001b[1;33m[\u001b[0m\u001b[1;34m'轨迹'\u001b[0m\u001b[1;33m]\u001b[0m\u001b[1;33m.\u001b[0m\u001b[0mvalues\u001b[0m\u001b[1;33m(\u001b[0m\u001b[1;33m)\u001b[0m\u001b[1;33m:\u001b[0m\u001b[1;33m\u001b[0m\u001b[0m\n\u001b[1;32m---> 10\u001b[1;33m         \u001b[0mlon\u001b[0m\u001b[1;33m,\u001b[0m\u001b[0mlat\u001b[0m\u001b[1;33m=\u001b[0m\u001b[0mgeocodeGaode\u001b[0m\u001b[1;33m(\u001b[0m\u001b[0mj\u001b[0m\u001b[1;33m)\u001b[0m\u001b[1;33m\u001b[0m\u001b[0m\n\u001b[0m\u001b[0;32m     11\u001b[0m         \u001b[0mtemp2\u001b[0m\u001b[1;33m=\u001b[0m\u001b[1;33m[\u001b[0m\u001b[0mlon\u001b[0m\u001b[1;33m,\u001b[0m\u001b[0mlat\u001b[0m\u001b[1;33m,\u001b[0m\u001b[0mweight\u001b[0m\u001b[1;33m]\u001b[0m\u001b[1;33m\u001b[0m\u001b[0m\n\u001b[0;32m     12\u001b[0m     \u001b[0mheat_data\u001b[0m\u001b[1;33m.\u001b[0m\u001b[0mappend\u001b[0m\u001b[1;33m(\u001b[0m\u001b[0mtemp2\u001b[0m\u001b[1;33m)\u001b[0m\u001b[1;33m\u001b[0m\u001b[0m\n",
      "\u001b[1;32m~\\Documents\\GitHub\\Maps-30days\\DAY-02\\point.py\u001b[0m in \u001b[0;36mgeocodeGaode\u001b[1;34m(address)\u001b[0m\n\u001b[0;32m      7\u001b[0m \u001b[1;32mdef\u001b[0m \u001b[0mgeocodeGaode\u001b[0m\u001b[1;33m(\u001b[0m\u001b[0maddress\u001b[0m\u001b[1;33m)\u001b[0m\u001b[1;33m:\u001b[0m\u001b[1;33m\u001b[0m\u001b[0m\n\u001b[0;32m      8\u001b[0m     \u001b[0mkey\u001b[0m\u001b[1;33m=\u001b[0m\u001b[1;34m'b01803a8d6382fc3dbeaf2d7fcf319df'\u001b[0m\u001b[1;33m\u001b[0m\u001b[0m\n\u001b[1;32m----> 9\u001b[1;33m     \u001b[0mcity_param\u001b[0m\u001b[1;33m=\u001b[0m\u001b[1;34m'西安市'\u001b[0m\u001b[1;33m\u001b[0m\u001b[0m\n\u001b[0m\u001b[0;32m     10\u001b[0m     \u001b[0mbase_url\u001b[0m \u001b[1;33m=\u001b[0m \u001b[1;34m\"https://restapi.amap.com/v3/place/text?keywords={}&city={}&offset=20&page=1&key={}&extensions=base\"\u001b[0m\u001b[1;33m.\u001b[0m\u001b[0mformat\u001b[0m\u001b[1;33m(\u001b[0m\u001b[0maddress\u001b[0m\u001b[1;33m,\u001b[0m\u001b[0mcity_param\u001b[0m\u001b[1;33m,\u001b[0m\u001b[0mkey\u001b[0m\u001b[1;33m)\u001b[0m\u001b[1;33m\u001b[0m\u001b[0m\n\u001b[0;32m     11\u001b[0m     \u001b[0mresponse\u001b[0m \u001b[1;33m=\u001b[0m \u001b[0mrequests\u001b[0m\u001b[1;33m.\u001b[0m\u001b[0mget\u001b[0m\u001b[1;33m(\u001b[0m\u001b[0mbase_url\u001b[0m\u001b[1;33m,\u001b[0m\u001b[0mheaders\u001b[0m\u001b[1;33m=\u001b[0m\u001b[0mheader\u001b[0m\u001b[1;33m)\u001b[0m\u001b[1;33m\u001b[0m\u001b[0m\n",
      "\u001b[1;31mNameError\u001b[0m: name 'city_param' is not defined"
     ]
    }
   ],
   "source": [
    "heat_data=[]\n",
    "weight=1\n",
    "for patient in data:\n",
    "    temp1=data[patient]\n",
    "    time_index=[]\n",
    "    locat=[]\n",
    "    for i in temp1['轨迹'].keys():\n",
    "        time_index.append(i)\n",
    "    for j in temp1['轨迹'].values():\n",
    "        lon,lat=geocodeGaode(j)\n",
    "        temp2=[lon,lat,weight]\n",
    "    heat_data.append(temp2)\n",
    "    print('---------------')\n"
   ]
  },
  {
   "cell_type": "code",
   "execution_count": 5,
   "metadata": {},
   "outputs": [],
   "source": [
    "from datetime import datetime, timedelta\n",
    "\n",
    "\n",
    "time_index = [\n",
    "    (datetime.now() + k * timedelta(1)).strftime('%Y-%m-%d') for\n",
    "    k in range(len(data))]"
   ]
  },
  {
   "cell_type": "code",
   "execution_count": 6,
   "metadata": {},
   "outputs": [
    {
     "data": {
      "text/plain": [
       "['2020-02-21', '2020-02-22', '2020-02-23', '2020-02-24', '2020-02-25']"
      ]
     },
     "execution_count": 6,
     "metadata": {},
     "output_type": "execute_result"
    }
   ],
   "source": [
    "time_index"
   ]
  },
  {
   "cell_type": "code",
   "execution_count": null,
   "metadata": {},
   "outputs": [],
   "source": []
  },
  {
   "cell_type": "code",
   "execution_count": null,
   "metadata": {},
   "outputs": [],
   "source": [
    "from datetime import datetime, timedelta\n",
    "\n",
    "\n",
    "time_index = [\n",
    "    (datetime.now() + k * timedelta(1)).strftime('%Y-%m-%d') for\n",
    "    k in range(len(data))\n",
    "]\n",
    "m = folium.Map([34.27,108.95], tiles='stamentoner', zoom_start=6)\n",
    "\n",
    "hm = plugins.HeatMapWithTime(\n",
    "    data,\n",
    "    index=time_index,\n",
    "    auto_play=True,\n",
    "    max_opacity=0.3\n",
    ")\n",
    "\n",
    "hm.add_to(m)\n",
    "\n",
    "m"
   ]
  }
 ],
 "metadata": {
  "kernelspec": {
   "display_name": "Python 3",
   "language": "python",
   "name": "python3"
  },
  "language_info": {
   "codemirror_mode": {
    "name": "ipython",
    "version": 3
   },
   "file_extension": ".py",
   "mimetype": "text/x-python",
   "name": "python",
   "nbconvert_exporter": "python",
   "pygments_lexer": "ipython3",
   "version": "3.6.4"
  }
 },
 "nbformat": 4,
 "nbformat_minor": 2
}
